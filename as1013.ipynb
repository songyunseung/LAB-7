{
 "cells": [
  {
   "cell_type": "code",
   "execution_count": 26,
   "id": "b29db0dc",
   "metadata": {},
   "outputs": [
    {
     "name": "stdout",
     "output_type": "stream",
     "text": [
      "오늘의 날짜 : 2022년 10월 13일\n",
      "현재시간 : 오후 2 시 48분 9초\n"
     ]
    }
   ],
   "source": [
    ">>> import datetime as dt\n",
    ">>> start_time = dt.datetime.now()\n",
    "print(\"오늘의 날짜 : {}년 {}월 {}일\".format(start_time.year, start_time.month, start_time.day))\n",
    "if start_time.hour <= 12:\n",
    "    print(\"현재시간 : 오전 {}시 {}분 {}초\".format(start_time.hour, start_time.minute, start_time.second))\n",
    "else:\n",
    "    print(\"현재시간 : 오후\", start_time.hour-12 ,\"시 {}분 {}초\".format(start_time.minute, start_time.second))"
   ]
  },
  {
   "cell_type": "code",
   "execution_count": 29,
   "id": "1a2f7225",
   "metadata": {},
   "outputs": [
    {
     "name": "stdout",
     "output_type": "stream",
     "text": [
      "오늘은 2022년 10월 13일입니다\n",
      "2025년 크리스마스 까지는 1168일 9시간 남았습니다.\n"
     ]
    }
   ],
   "source": [
    "import datetime as dt\n",
    "today = dt.datetime.today()\n",
    "print(\"오늘은 {}년 {}월 {}일입니다\".format(today.year,today.month,today.day))\n",
    "x_mas = dt.datetime(2025,12,25)\n",
    "n = x_mas - dt.datetime.now()\n",
    "print(\"{}년 크리스마스 까지는 {}일 {}시간 남았습니다.\".format(x_mas.year,n.days,n.seconds//3600))"
   ]
  },
  {
   "cell_type": "code",
   "execution_count": 30,
   "id": "fd2d5cf2",
   "metadata": {},
   "outputs": [
    {
     "name": "stdout",
     "output_type": "stream",
     "text": [
      "오늘은 2022년 10월 13일입니다\n",
      "2036년 새해 까지는 4827일 9시간 남았습니다.\n"
     ]
    }
   ],
   "source": [
    "import datetime as dt\n",
    "today = dt.datetime.today()\n",
    "print(\"오늘은 {}년 {}월 {}일입니다\".format(today.year,today.month,today.day))\n",
    "new_year = dt.datetime(2036,1,1)\n",
    "n = new_year - dt.datetime.now()\n",
    "print(\"{}년 새해 까지는 {}일 {}시간 남았습니다.\".format(new_year.year,n.days,n.seconds//3600))"
   ]
  },
  {
   "cell_type": "code",
   "execution_count": 32,
   "id": "67198f5e",
   "metadata": {},
   "outputs": [
    {
     "name": "stdout",
     "output_type": "stream",
     "text": [
      "오늘은 2022년 10월 13일입니다\n",
      "2023년 생일 까지는 245일 9시간 남았습니다.\n"
     ]
    }
   ],
   "source": [
    "import datetime as dt\n",
    "today = dt.datetime.today()\n",
    "print(\"오늘은 {}년 {}월 {}일입니다\".format(today.year,today.month,today.day))\n",
    "new_year = dt.datetime(2023,6,16)\n",
    "n = new_year - dt.datetime.now()\n",
    "print(\"{}년 생일 까지는 {}일 {}시간 남았습니다.\".format(new_year.year,n.days,n.seconds//3600))"
   ]
  },
  {
   "cell_type": "code",
   "execution_count": 34,
   "id": "80cc7d77",
   "metadata": {},
   "outputs": [
    {
     "name": "stdout",
     "output_type": "stream",
     "text": [
      "2025-07-09 15:01:52.726621\n"
     ]
    }
   ],
   "source": [
    "import datetime as dt\n",
    "now = dt.datetime.now()\n",
    "n = dt.timedelta(days = 1000)\n",
    "plus1000day = now + n\n",
    "print(plus1000day)"
   ]
  },
  {
   "cell_type": "code",
   "execution_count": 40,
   "id": "89d4615a",
   "metadata": {},
   "outputs": [
    {
     "name": "stdout",
     "output_type": "stream",
     "text": [
      "처음으로 사귄 연도와 월, 일을 입력하시오 :2019 3 30\n",
      "100일 기념일은 : 2019년 7월 7일입니다.\n"
     ]
    }
   ],
   "source": [
    "a,b,c = map(int,input(\"처음으로 사귄 연도와 월, 일을 입력하시오 :\").split())\n",
    "n = dt.datetime(a,b,c)\n",
    "q = dt.timedelta(days = 99)\n",
    "p = n + q\n",
    "print(\"100일 기념일은 : {}년 {}월 {}일입니다.\".format(p.year,p.month,p.day))"
   ]
  },
  {
   "cell_type": "code",
   "execution_count": 41,
   "id": "23e4d85f",
   "metadata": {},
   "outputs": [
    {
     "name": "stdout",
     "output_type": "stream",
     "text": [
      "2027-11-02 00:00:00\n"
     ]
    }
   ],
   "source": [
    "import datetime as dt\n",
    "now = dt.datetime(2000,6,16)\n",
    "n = dt.timedelta(days = 10000)\n",
    "plus10000day = now + n\n",
    "print(plus10000day)"
   ]
  },
  {
   "cell_type": "code",
   "execution_count": 44,
   "id": "0b02d230",
   "metadata": {},
   "outputs": [
    {
     "name": "stdout",
     "output_type": "stream",
     "text": [
      "2022-10-13 15:38:50\n"
     ]
    }
   ],
   "source": [
    "import time\n",
    "seconds = time.time()\n",
    "local_time = time.localtime(seconds)\n",
    "print(time.strftime(\"%Y-%m-%d %H:%M:%S\", local_time))"
   ]
  },
  {
   "cell_type": "code",
   "execution_count": 58,
   "id": "42b7fcb3",
   "metadata": {},
   "outputs": [
    {
     "name": "stdout",
     "output_type": "stream",
     "text": [
      " 4** 2 =      16.0\n",
      " 4** 3 =      64.0\n",
      " 4** 4 =     256.0\n",
      " 4** 5 =    1024.0\n",
      " 4** 6 =    4096.0\n",
      " 4** 7 =   16384.0\n",
      " 4** 8 =   65536.0\n",
      " 4** 9 =  262144.0\n",
      " 4** 10 = 1048576.0\n"
     ]
    }
   ],
   "source": [
    "import math\n",
    "for i in range(2,11):\n",
    "    print(\"{0: d}** {1:d} ={2:10.1f}\".format(4,i,math.pow(4,i)))"
   ]
  },
  {
   "cell_type": "code",
   "execution_count": 61,
   "id": "af299b9a",
   "metadata": {},
   "outputs": [
    {
     "name": "stdout",
     "output_type": "stream",
     "text": [
      "0degree = 0.000radian\n",
      "10degree = 0.175radian\n",
      "20degree = 0.349radian\n",
      "30degree = 0.524radian\n",
      "40degree = 0.698radian\n",
      "50degree = 0.873radian\n",
      "60degree = 1.047radian\n",
      "70degree = 1.222radian\n",
      "80degree = 1.396radian\n",
      "90degree = 1.571radian\n",
      "100degree = 1.745radian\n",
      "110degree = 1.920radian\n",
      "120degree = 2.094radian\n",
      "130degree = 2.269radian\n",
      "140degree = 2.443radian\n",
      "150degree = 2.618radian\n",
      "160degree = 2.793radian\n",
      "170degree = 2.967radian\n",
      "180degree = 3.142radian\n"
     ]
    }
   ],
   "source": [
    "for i in range(0,181,10):\n",
    "    print(\"{}degree = {:.3f}radian\".format(i,math.radians(i)))"
   ]
  },
  {
   "cell_type": "code",
   "execution_count": 68,
   "id": "7aec3cee",
   "metadata": {},
   "outputs": [
    {
     "name": "stdout",
     "output_type": "stream",
     "text": [
      "sin(  0) = 0.00\n",
      "sin( 10) = 0.17\n",
      "sin( 20) = 0.34\n",
      "sin( 30) = 0.50\n",
      "sin( 40) = 0.64\n",
      "sin( 50) = 0.77\n",
      "sin( 60) = 0.87\n",
      "sin( 70) = 0.94\n",
      "sin( 80) = 0.98\n",
      "sin( 90) = 1.00\n",
      "sin(100) = 0.98\n",
      "sin(110) = 0.94\n",
      "sin(120) = 0.87\n",
      "sin(130) = 0.77\n",
      "sin(140) = 0.64\n",
      "sin(150) = 0.50\n",
      "sin(160) = 0.34\n",
      "sin(170) = 0.17\n",
      "sin(180) = 0.00\n"
     ]
    }
   ],
   "source": [
    "for i in range(0,181,10):\n",
    "    a = math.radians(i)\n",
    "    print(\"sin({:3d}) = {:.2f}\".format(i,math.sin(a)))"
   ]
  },
  {
   "cell_type": "code",
   "execution_count": 115,
   "id": "b5e3af1f",
   "metadata": {},
   "outputs": [
    {
     "name": "stdout",
     "output_type": "stream",
     "text": [
      "a가 승리하였습니다\n"
     ]
    }
   ],
   "source": [
    "import random as rd\n",
    "while True:\n",
    "    a = rd.randint(1,6)\n",
    "    b = rd.randint(1,6)\n",
    "    if a>b:\n",
    "        print(\"a가 승리하였습니다\")\n",
    "        break\n",
    "    elif b>a:\n",
    "            print(\"b가 승리하였습니다\")\n",
    "            break\n",
    "    else:\n",
    "        print(\"무승부입니다.\")"
   ]
  },
  {
   "cell_type": "code",
   "execution_count": 120,
   "id": "5294f58d",
   "metadata": {},
   "outputs": [
    {
     "name": "stdout",
     "output_type": "stream",
     "text": [
      "0에서 100 이하의 정수 중에서 5의 배수\n"
     ]
    },
    {
     "data": {
      "text/plain": [
       "[10, 75, 90]"
      ]
     },
     "execution_count": 120,
     "metadata": {},
     "output_type": "execute_result"
    }
   ],
   "source": [
    "list1 = []\n",
    "for i in range(3):\n",
    "    a = rd.randrange(0,101,5)\n",
    "    list1.append(a)\n",
    "print(\"0에서 100 이하의 정수 중에서 5의 배수\")\n",
    "list1"
   ]
  },
  {
   "cell_type": "code",
   "execution_count": 122,
   "id": "62872651",
   "metadata": {},
   "outputs": [
    {
     "data": {
      "text/plain": [
       "[7, 2, 8]"
      ]
     },
     "execution_count": 122,
     "metadata": {},
     "output_type": "execute_result"
    }
   ],
   "source": [
    "list1 = []\n",
    "for i in range(3):\n",
    "    a = rd.randrange(0,11)\n",
    "    list1.append(a)\n",
    "rd.sample(list1,3)"
   ]
  },
  {
   "cell_type": "code",
   "execution_count": 124,
   "id": "b942b8d1",
   "metadata": {},
   "outputs": [
    {
     "name": "stdout",
     "output_type": "stream",
     "text": [
      "[5, 10, 23, 24, 29, 33]\n"
     ]
    }
   ],
   "source": [
    "list1 = []\n",
    "for i in range(1,46):\n",
    "    list1.append(i)\n",
    "    rd.shuffle(list1)\n",
    "list2 = []\n",
    "for i in range(6):\n",
    "    list2.append(list1[i])\n",
    "list2.sort()\n",
    "print(list2)\n",
    "   "
   ]
  },
  {
   "cell_type": "code",
   "execution_count": 126,
   "id": "5a030c58",
   "metadata": {},
   "outputs": [
    {
     "name": "stdout",
     "output_type": "stream",
     "text": [
      "이번 주의 추천 로또번호\n",
      "[9, 14, 18, 24, 30, 40]\n",
      "[3, 4, 6, 20, 24, 25]\n",
      "[8, 10, 19, 35, 36, 38]\n",
      "[1, 15, 19, 22, 32, 36]\n",
      "[11, 18, 20, 30, 33, 38]\n"
     ]
    }
   ],
   "source": [
    "print(\"이번 주의 추천 로또번호\")\n",
    "for i in range(5):\n",
    "    list1 = list(range(1,46))\n",
    "    list1 = rd.sample(list1,6)\n",
    "    list1.sort()\n",
    "    print(list1)"
   ]
  },
  {
   "cell_type": "code",
   "execution_count": 133,
   "id": "333f3a7d",
   "metadata": {},
   "outputs": [
    {
     "name": "stdout",
     "output_type": "stream",
     "text": [
      "이번 주의 당첨 로또번호 + 보너스\n",
      "[4, 6, 15, 27, 29, 32] + [19]\n"
     ]
    }
   ],
   "source": [
    "print(\"이번 주의 당첨 로또번호 + 보너스\")\n",
    "list1 =[]\n",
    "list2 =[]\n",
    "for i in range(1,46):\n",
    "    list1.append(i)\n",
    "list2 = rd.sample(list1,6)\n",
    "list2.sort()\n",
    "while True:\n",
    "    a = rd.sample(list1,1)\n",
    "    if list2.count(a) == 0:\n",
    "        print(list2 , \"+\",a)\n",
    "        break\n",
    "    else:\n",
    "        a = rd.sample(list1,1)"
   ]
  },
  {
   "cell_type": "code",
   "execution_count": null,
   "id": "614a1738",
   "metadata": {},
   "outputs": [],
   "source": []
  }
 ],
 "metadata": {
  "kernelspec": {
   "display_name": "Python 3 (ipykernel)",
   "language": "python",
   "name": "python3"
  },
  "language_info": {
   "codemirror_mode": {
    "name": "ipython",
    "version": 3
   },
   "file_extension": ".py",
   "mimetype": "text/x-python",
   "name": "python",
   "nbconvert_exporter": "python",
   "pygments_lexer": "ipython3",
   "version": "3.9.12"
  }
 },
 "nbformat": 4,
 "nbformat_minor": 5
}
