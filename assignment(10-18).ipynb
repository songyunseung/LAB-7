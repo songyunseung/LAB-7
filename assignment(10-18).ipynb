{
 "cells": [
  {
   "cell_type": "code",
   "execution_count": 9,
   "id": "dd6d0acd",
   "metadata": {},
   "outputs": [
    {
     "name": "stdout",
     "output_type": "stream",
     "text": [
      "로미오의 주사위 숫자는 5입니다.\n",
      "줄리엣의 주사위 숫자는 5입니다.\n",
      "비겼습니다.\n"
     ]
    }
   ],
   "source": [
    "import random as rd \n",
    "n1 = rd.randrange(1,7) #randrange는 a이상 b미만의 범위의 수를 무작위로 반환한다.\n",
    "print(\"로미오의 주사위 숫자는 {}입니다.\".format(n1))\n",
    "n2 = rd.randrange(1,7)\n",
    "print(\"줄리엣의 주사위 숫자는 {}입니다.\".format(n2))\n",
    "if n1>n2:\n",
    "    print('로미오가 이겼습니다.')\n",
    "elif n2>n1:\n",
    "    print('줄리엣이 이겼습니다.')\n",
    "else:\n",
    "    print(\"비겼습니다.\")"
   ]
  },
  {
   "cell_type": "code",
   "execution_count": 16,
   "id": "2c14fe66",
   "metadata": {},
   "outputs": [
    {
     "name": "stdout",
     "output_type": "stream",
     "text": [
      "1~20까지의 숫자를 입력하세요: 1\n",
      "1보다 큽니다!\n",
      "1~20까지의 숫자를 입력하세요: 2\n",
      "2보다 큽니다!\n",
      "1~20까지의 숫자를 입력하세요: 3\n",
      "3보다 큽니다!\n",
      "1~20까지의 숫자를 입력하세요: 4\n",
      "4보다 큽니다!\n",
      "1~20까지의 숫자를 입력하세요: 5\n",
      "5보다 큽니다!\n",
      "1~20까지의 숫자를 입력하세요: 6\n",
      "6보다 큽니다!\n",
      "1~20까지의 숫자를 입력하세요: 7\n",
      "7보다 큽니다!\n",
      "1~20까지의 숫자를 입력하세요: 8\n",
      "8보다 큽니다!\n",
      "1~20까지의 숫자를 입력하세요: 9\n",
      "9보다 큽니다!\n",
      "1~20까지의 숫자를 입력하세요: 11\n",
      "11보다 큽니다!\n",
      "1~20까지의 숫자를 입력하세요: 14\n",
      "14보다 큽니다!\n",
      "1~20까지의 숫자를 입력하세요: 16\n",
      "16보다 큽니다!\n",
      "1~20까지의 숫자를 입력하세요: 18\n",
      "18보다 큽니다!\n",
      "1~20까지의 숫자를 입력하세요: 19\n",
      "19보다 큽니다!\n",
      "1~20까지의 숫자를 입력하세요: 20\n",
      "정답입니다!\n",
      "15번만에 맞추다니 쩝쩝...\n"
     ]
    }
   ],
   "source": [
    "import random as rd\n",
    "n = 0\n",
    "x = rd.randrange(1,21)\n",
    "while True: #무한루프를 작성한다\n",
    "    num = int(input(\"1~20까지의 숫자를 입력하세요: \"))\n",
    "    n = n+1\n",
    "    if x == num: #정답을 맞췄을떄 break문으로 무한루프를 탈출한다\n",
    "        print('정답입니다!')\n",
    "        if n <=3:\n",
    "            print(\"{}번 만에 맞춘 당신은 천재!\".format(n))\n",
    "        elif n>3 and n<=6:\n",
    "            print(\"{}번만에 맞추셨네요. 잘 했어요^^\".format(n))\n",
    "        elif n >= 7:\n",
    "            print(\"{}번만에 맞추다니 쩝쩝...\".format(n))\n",
    "        break\n",
    "    elif x > num:\n",
    "        print('{}보다 큽니다!'.format(num))\n",
    "    elif num > x:\n",
    "        print(\"{}보다 작습니다!\".format(num))\n",
    "    \n",
    "    "
   ]
  },
  {
   "cell_type": "code",
   "execution_count": 28,
   "id": "63fb61ec",
   "metadata": {},
   "outputs": [
    {
     "name": "stdout",
     "output_type": "stream",
     "text": [
      "오늘은 2022년 10월 18일입니다.\n",
      "춘향이와 몽룡이의 연애 시작일: 2019년 2월 24일.\n",
      "연애 시작일로부터 경과한 날짜:1332일\n",
      "100일 기념일 : 2019년 6월 4일\n",
      "200일 기념일 : 2019년 9월 12일\n",
      "200일 기념일 : 2020년 7월 8일\n",
      "1000일 기념일 : 2021년 11월 20일\n"
     ]
    }
   ],
   "source": [
    "import datetime as dt\n",
    "today = dt.datetime.today()\n",
    "print(\"오늘은 {}년 {}월 {}일입니다.\".format(today.year,today.month,today.day))\n",
    "start_day = dt.datetime(year = 2019, month = 2, day = 24)\n",
    "print(\"춘향이와 몽룡이의 연애 시작일: {}년 {}월 {}일.\".format(start_day.year,start_day.month,start_day.day))\n",
    "day1 = today - start_day\n",
    "print(\"연애 시작일로부터 경과한 날짜:{}일\".format(day1.days))\n",
    "n = dt.timedelta(days = 100) #timedelta클래스를 이용하여 day = 100을 활용한다\n",
    "plus100day = start_day + n\n",
    "print(\"100일 기념일 : {}년 {}월 {}일\".format(plus100day.year,plus100day.month,plus100day.day))\n",
    "n = dt.timedelta(days = 200)\n",
    "plus200day = start_day + n\n",
    "print(\"200일 기념일 : {}년 {}월 {}일\".format(plus200day.year,plus200day.month,plus200day.day))\n",
    "n = dt.timedelta(days = 500)\n",
    "plus500day = start_day+n\n",
    "print(\"200일 기념일 : {}년 {}월 {}일\".format(plus500day.year,plus500day.month,plus500day.day))\n",
    "n = dt.timedelta(days = 1000)\n",
    "plus1000day = start_day + n\n",
    "print(\"1000일 기념일 : {}년 {}월 {}일\".format(plus1000day.year,plus1000day.month,plus1000day.day))"
   ]
  },
  {
   "cell_type": "code",
   "execution_count": 69,
   "id": "d027a49a",
   "metadata": {},
   "outputs": [
    {
     "name": "stdout",
     "output_type": "stream",
     "text": [
      "1에서 1,000,000까지의 합을 100번 반복해서 구하는 시간: 79.6356초\n"
     ]
    }
   ],
   "source": [
    "import time as t\n",
    "def abc(n):\n",
    "    s = 0\n",
    "    for i in range(1,10000001):\n",
    "        s = s + i\n",
    "start_time = t.time() #에폭시간을 활용하여 시간을 측정한다\n",
    "for _ in range(100):\n",
    "    abc(1)\n",
    "end_time = t.time()\n",
    "print(\"1에서 1,000,000까지의 합을 100번 반복해서 구하는 시간: {0:.4f}초\".format(end_time-start_time))"
   ]
  },
  {
   "cell_type": "code",
   "execution_count": 43,
   "id": "8fa66ccf",
   "metadata": {},
   "outputs": [
    {
     "name": "stdout",
     "output_type": "stream",
     "text": [
      "1000!을 100번 반복해서 구하는 시간: 0.0359초\n"
     ]
    }
   ],
   "source": [
    "import time as t\n",
    "def abc(n):\n",
    "    s = 1\n",
    "    for i in range(1,1001):\n",
    "        s = s * i\n",
    "start_time = t.time()\n",
    "for _ in range(100):\n",
    "    abc(1)\n",
    "end_time = t.time()\n",
    "print(\"1000!을 100번 반복해서 구하는 시간: {0:.4f}초\".format(end_time-start_time))"
   ]
  },
  {
   "cell_type": "code",
   "execution_count": 48,
   "id": "698988a6",
   "metadata": {},
   "outputs": [
    {
     "name": "stdout",
     "output_type": "stream",
     "text": [
      "1에서 1000까지 홀수의 세제곱 더하기 결과:  124999750001\n",
      "1에서 1000까지 홀수의 세제곱 더하기를 100번 반복해서 구하는 시간: 0.0219초\n"
     ]
    }
   ],
   "source": [
    "def pl(n):\n",
    "    s = 1\n",
    "    for i in range(1,1001,2):\n",
    "        s = s + i**3\n",
    "    return s\n",
    "a = pl(1)\n",
    "print(\"1에서 1000까지 홀수의 세제곱 더하기 결과: \",a)\n",
    "start_time = t.time()\n",
    "for _ in range(100):\n",
    "    pl(1)\n",
    "end_time = t.time()\n",
    "print(\"1에서 1000까지 홀수의 세제곱 더하기를 100번 반복해서 구하는 시간: {0:.4f}초\".format(end_time-start_time))"
   ]
  },
  {
   "cell_type": "code",
   "execution_count": 52,
   "id": "71f1c445",
   "metadata": {},
   "outputs": [
    {
     "name": "stdout",
     "output_type": "stream",
     "text": [
      "1에서 360도까지 sin값의 합: 5.6739471402033955e-15\n",
      "1에서 360도까지 sin값의 더하기를 100번 반복해서 구하는 시간: 0.0146초\n"
     ]
    }
   ],
   "source": [
    "import math as m\n",
    "def s1(n):\n",
    "    a = 0\n",
    "    for i in range(1,361):\n",
    "        a = a + m.sin(m.radians(i)) #radians는 각도를 라디아값으로 변환하고 sin은 라디안 값을 입력해야 원하는 값이 나온다\n",
    "    return a\n",
    "s = s1(1)\n",
    "print('1에서 360도까지 sin값의 합: {}'.format(s))\n",
    "start_time = t.time()\n",
    "for _ in range(100):\n",
    "    s1(1)\n",
    "end_time = t.time()\n",
    "print(\"1에서 360도까지 sin값의 더하기를 100번 반복해서 구하는 시간: {0:.4f}초\".format(end_time-start_time))        "
   ]
  },
  {
   "cell_type": "code",
   "execution_count": 67,
   "id": "1a3b79ff",
   "metadata": {},
   "outputs": [
    {
     "name": "stdout",
     "output_type": "stream",
     "text": [
      "1233\n",
      "136986\n",
      "1217\n",
      "135210\n",
      "328369\n",
      "273210\n",
      "442017\n",
      "305226\n",
      "325777\n",
      "509786\n"
     ]
    }
   ],
   "source": [
    "def myRand(x):\n",
    "    new_x = (111*x + 123) % (2**19) #임의난수를 출력하는 방법은 x(n+1) = (a*x(n) + b)%(c)이다  \n",
    "    \n",
    "    return new_x\n",
    "x = 10\n",
    "for _ in range(10):\n",
    "    x = myRand(x)\n",
    "    print(x)"
   ]
  }
 ],
 "metadata": {
  "kernelspec": {
   "display_name": "Python 3 (ipykernel)",
   "language": "python",
   "name": "python3"
  },
  "language_info": {
   "codemirror_mode": {
    "name": "ipython",
    "version": 3
   },
   "file_extension": ".py",
   "mimetype": "text/x-python",
   "name": "python",
   "nbconvert_exporter": "python",
   "pygments_lexer": "ipython3",
   "version": "3.9.12"
  }
 },
 "nbformat": 4,
 "nbformat_minor": 5
}
